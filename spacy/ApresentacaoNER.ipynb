{
 "cells": [
  {
   "cell_type": "markdown",
   "id": "5ba4bc5e-8f9a-45c7-8b79-5d989deb9be6",
   "metadata": {},
   "source": [
    "# Processamento de Linguagem Natural (Natural Language Processing)\n",
    "O computados tem dificuldade em processar dados não estruturados, printipalmento no que se refere a texto e linguagem, com o surjimento da demanda e foram criando formas de fazer o computador processar textos e com o surgimento do machine learning e as redes neurais artificiais trouxe mais possibilidades\n",
    "## Corpus\n",
    "Conjunto de documentos(Textos não estruturado) em linguagem natural\n",
    "\n",
    "## Annotations\n",
    "Localizar e classificar elementos especificos no texto.\n",
    " * Exemplos:\n",
    "    * Anotar sentimentos para treinamento de IA\n",
    "* Podendo ser especifica por dominio ex. Medicina;\n",
    "* Existem empresas especificas especializadas em anotar\n",
    "* Existem ferramentas expecializadas como: Doccano, Brat etc.\n",
    "* Alguns tipos podem ser feitas por maquinas\n",
    "\n",
    "## Tokenização\n",
    "Processo de subdivisão das sentenças em partes: palavras, pontos e símbulos etc.\n",
    "\n",
    "## Parts-of-speech (POS) tagging\n",
    "Adiciona tags a cada tokem por exemplo sé é verbo, substantivo, adjetivo etc.\n",
    "\n",
    "## Lemmatizing (lemma)\n",
    "Trazer a palavra na sua flexão, de modo que possam ser analizadas juntas.\n",
    "\n",
    "## stemming \n",
    "* Corta palavras, buscando ter uma representação raiz unica\n",
    "* Diferentes tecnicas\n",
    "* Lemmatization é mais sofisticado\n",
    "* Amigo, amigos, amiga, amigas => amig\n",
    "\n",
    "## Dependency parsing\n",
    "Busca encontrar relação entre palvras\n",
    "\n",
    "### Ngram\n",
    "* N palavras sonsecutivas\n",
    "* Bigrams e trigrams\n",
    "* 4 ou mais não é utilizado devido a esparsidade\n",
    "* pode ser aplicado em letras\n",
    "\n",
    "## Modelo\n",
    "Um modelo de banco de dados linguistico \n",
    "* Analize:\n",
    "   * Verbo, substantivo, quais são as flexôes? Quais são as dependencias\n",
    "* Especifico para cada idioma\n",
    "* Maioria das bibliotecas de NLP tem seus próprios modelos (ou usam modelos de terceiros)\n",
    "* Pode criar seu\n",
    "\n",
    "### Word Embedding \n",
    "É representações computacionais de texto:\n",
    "\n",
    "* independente de contexto\n",
    "* dependente de contexto\n",
    "\n",
    "### One-hot encode\n",
    "É uma representação matricial de uma fraze em uma matriz formada por zeros e uns\n",
    "\n",
    "### TF-IDF\n",
    "É feita pela frequencia das palavras utilizadas na frase palavras mais frequentes tendem a se aproximar de 0 e palavras menos frequentes tendem a ter valor mais alto\n",
    "\n",
    "## word2vec\n",
    "Atravez de um processo de treinamento, produz um vetor demonstrando matematicamente a relação entre palavras existem duas formas principais:\n",
    "\n",
    "* CBOW: busca prever uma palavra baseadono contxto\n",
    "* Skip-gram: busca prever o contexto a partir de uma palavra central"
   ]
  },
  {
   "cell_type": "code",
   "execution_count": 1,
   "id": "e76f02fc-b685-4dcf-8c9b-3f24f0fbbecc",
   "metadata": {},
   "outputs": [],
   "source": [
    "import string\n",
    "import spacy\n",
    "from spacy import displacy\n",
    "import pandas as pd\n",
    "import os"
   ]
  },
  {
   "cell_type": "code",
   "execution_count": 2,
   "id": "536a21f8-fbd7-47d9-8c78-20bacae58eeb",
   "metadata": {},
   "outputs": [
    {
     "name": "stdout",
     "output_type": "stream",
     "text": [
      "\u001b[38;5;2m✔ Download and installation successful\u001b[0m\n",
      "You can now load the package via spacy.load('pt_core_news_lg')\n",
      "\u001b[38;5;3m⚠ Restart to reload dependencies\u001b[0m\n",
      "If you are in a Jupyter or Colab notebook, you may need to restart Python in\n",
      "order to load all the package's dependencies. You can do this by selecting the\n",
      "'Restart kernel' or 'Restart runtime' option.\n"
     ]
    }
   ],
   "source": [
    "spacy.cli.download('pt_core_news_lg')"
   ]
  },
  {
   "cell_type": "code",
   "execution_count": 3,
   "id": "42b8216c-5d3a-4880-8359-e9a56514b306",
   "metadata": {},
   "outputs": [],
   "source": [
    "nlp = spacy.load('pt_core_news_lg')"
   ]
  },
  {
   "cell_type": "code",
   "execution_count": 4,
   "id": "308175a5-bb35-468c-90d0-75cfd2a074e1",
   "metadata": {},
   "outputs": [],
   "source": [
    "base_path = os.getcwd()\n",
    "with open(os.path.join(base_path,'teste.txt'), 'r') as txt:\n",
    "    text = txt.readlines()\n",
    "    txt.close()"
   ]
  },
  {
   "cell_type": "code",
   "execution_count": 5,
   "id": "1ebf5e5b-6270-43f5-9faf-968b5e4afa81",
   "metadata": {},
   "outputs": [
    {
     "name": "stdout",
     "output_type": "stream",
     "text": [
      "era uma vez na encantadora cidade de porto alegre, no sul do brasil, um jovem chamado joão que sonhava em se tornar um renomado cientista. ele estudava na universidade federal do rio grande do sul (ufrgs) e passava seus dias no laboratório de pesquisa avançada, onde trabalhava em projetos inovadores.\n"
     ]
    }
   ],
   "source": [
    "sentenses = []\n",
    "for sentense in text:\n",
    "    if not sentense == ' \\n':\n",
    "        sentenses.append(sentense.replace('\\n', '').lower())\n",
    "print(sentenses[0])"
   ]
  },
  {
   "cell_type": "markdown",
   "id": "fc163d3c-52d5-4054-81e3-1e57ae2da8e3",
   "metadata": {},
   "source": [
    "Tokenização feita pelo spacy"
   ]
  },
  {
   "cell_type": "code",
   "execution_count": 6,
   "id": "340ee513-7ca7-448f-bcb1-71c983f32b5e",
   "metadata": {},
   "outputs": [
    {
     "name": "stdout",
     "output_type": "stream",
     "text": [
      "[encantadora, cidade, porto, alegre, sul, brasil, jovem, chamado, joão, sonhava, tornar, renomado, cientista, estudava, universidade, federal, rio, sul, ufrgs, passava, dias, laboratório, pesquisa, avançada, trabalhava, projetos, inovadores, joão, fascinado, astronomia, tinha, telescópio, sofisticado, marca, celestron, presente, avô, apaixonado, céu, noturno, laboratório, colaborava, dra, maria, astrofísica, renomada, colega, classe, pedro, entusiasta, física, quântica, certo, dia, observava, constelação, órion, joão, notou, anomalia, dados, coletados, imediatamente, compartilhou, descoberta, dra, maria, sugeriu, análise, aprofundada, utilizando, supercomputador, titan, localizado, instituto, nacional, pesquisas, espaciais, inpe, ajuda, pedro, joão, conseguiu, interpretar, dados, concluiu, havia, encontrado, exoplaneta, orbitando, estrela, distante, descoberta, chamou, atenção, nasa, agência, espacial, europeia, esa, convidaram, joão, equipe, apresentarem, achados, conferência, internacional, astronomia, realizada, paris, fapergs, fundação, amparo, pesquisa, rio, sul, joão, viajou, frança, trabalho, aplaudido, reconhecido, cientistas, mundo, retornar, porto, alegre, joão, recebido, herói, prefeitura, cidade, organizou, cerimônia, homenagem, entrevistado, diversos, meios, comunicação, incluindo, revista, scientific, american, jornal, folha, s.paulo, descoberta, enriqueceu, campo, astronomia, inspirou, jovens, seguirem, carreiras, científicas, joão, continuou, estudos, pesquisas, buscando, desvendar, mistérios, universo, sabia, jornada, começando, dedicação, paixão, poderia, alcançar, conquistas, futuro]\n"
     ]
    }
   ],
   "source": [
    "tokens_spacy = []\n",
    "docs = []\n",
    "for sentense in sentenses:\n",
    "    doc = nlp(sentense)\n",
    "    docs.append(doc)\n",
    "    for token in doc:\n",
    "        if not token.is_stop and not token.is_punct:\n",
    "            tokens_spacy.append(token)\n",
    "print(tokens_spacy)"
   ]
  },
  {
   "cell_type": "code",
   "execution_count": 7,
   "id": "7680bcc8-d145-4de7-8aeb-3c55633e241a",
   "metadata": {
    "scrolled": true
   },
   "outputs": [
    {
     "data": {
      "text/html": [
       "<div>\n",
       "<style scoped>\n",
       "    .dataframe tbody tr th:only-of-type {\n",
       "        vertical-align: middle;\n",
       "    }\n",
       "\n",
       "    .dataframe tbody tr th {\n",
       "        vertical-align: top;\n",
       "    }\n",
       "\n",
       "    .dataframe thead th {\n",
       "        text-align: right;\n",
       "    }\n",
       "</style>\n",
       "<table border=\"1\" class=\"dataframe\">\n",
       "  <thead>\n",
       "    <tr style=\"text-align: right;\">\n",
       "      <th></th>\n",
       "      <th>texto</th>\n",
       "      <th>pos</th>\n",
       "      <th>dep</th>\n",
       "      <th>tag</th>\n",
       "      <th>lemma</th>\n",
       "      <th>morph</th>\n",
       "      <th>shape</th>\n",
       "      <th>stop word</th>\n",
       "    </tr>\n",
       "  </thead>\n",
       "  <tbody>\n",
       "    <tr>\n",
       "      <th>0</th>\n",
       "      <td>encantadora</td>\n",
       "      <td>ADJ</td>\n",
       "      <td>amod</td>\n",
       "      <td>ADJ</td>\n",
       "      <td>encantadoro</td>\n",
       "      <td>(Gender=Fem, Number=Sing)</td>\n",
       "      <td>xxxx</td>\n",
       "      <td>False</td>\n",
       "    </tr>\n",
       "    <tr>\n",
       "      <th>1</th>\n",
       "      <td>cidade</td>\n",
       "      <td>NOUN</td>\n",
       "      <td>nmod</td>\n",
       "      <td>NOUN</td>\n",
       "      <td>cidade</td>\n",
       "      <td>(Gender=Fem, Number=Sing)</td>\n",
       "      <td>xxxx</td>\n",
       "      <td>False</td>\n",
       "    </tr>\n",
       "    <tr>\n",
       "      <th>2</th>\n",
       "      <td>porto</td>\n",
       "      <td>PROPN</td>\n",
       "      <td>nmod</td>\n",
       "      <td>PROPN</td>\n",
       "      <td>Porto</td>\n",
       "      <td>(Number=Sing)</td>\n",
       "      <td>xxxx</td>\n",
       "      <td>False</td>\n",
       "    </tr>\n",
       "    <tr>\n",
       "      <th>3</th>\n",
       "      <td>alegre</td>\n",
       "      <td>PROPN</td>\n",
       "      <td>flat:name</td>\n",
       "      <td>PROPN</td>\n",
       "      <td>Alegre</td>\n",
       "      <td>(Number=Sing)</td>\n",
       "      <td>xxxx</td>\n",
       "      <td>False</td>\n",
       "    </tr>\n",
       "    <tr>\n",
       "      <th>4</th>\n",
       "      <td>sul</td>\n",
       "      <td>NOUN</td>\n",
       "      <td>nmod</td>\n",
       "      <td>NOUN</td>\n",
       "      <td>sul</td>\n",
       "      <td>(Gender=Masc, Number=Sing)</td>\n",
       "      <td>xxx</td>\n",
       "      <td>False</td>\n",
       "    </tr>\n",
       "    <tr>\n",
       "      <th>5</th>\n",
       "      <td>brasil</td>\n",
       "      <td>PROPN</td>\n",
       "      <td>nmod</td>\n",
       "      <td>PROPN</td>\n",
       "      <td>Brasil</td>\n",
       "      <td>(Gender=Masc, Number=Sing)</td>\n",
       "      <td>xxxx</td>\n",
       "      <td>False</td>\n",
       "    </tr>\n",
       "    <tr>\n",
       "      <th>6</th>\n",
       "      <td>jovem</td>\n",
       "      <td>NOUN</td>\n",
       "      <td>dep</td>\n",
       "      <td>NOUN</td>\n",
       "      <td>jovem</td>\n",
       "      <td>(Gender=Masc, Number=Sing)</td>\n",
       "      <td>xxxx</td>\n",
       "      <td>False</td>\n",
       "    </tr>\n",
       "    <tr>\n",
       "      <th>7</th>\n",
       "      <td>chamado</td>\n",
       "      <td>VERB</td>\n",
       "      <td>amod</td>\n",
       "      <td>VERB</td>\n",
       "      <td>chamar</td>\n",
       "      <td>(Gender=Masc, Number=Sing, VerbForm=Part)</td>\n",
       "      <td>xxxx</td>\n",
       "      <td>False</td>\n",
       "    </tr>\n",
       "  </tbody>\n",
       "</table>\n",
       "</div>"
      ],
      "text/plain": [
       "         texto    pos        dep    tag        lemma  \\\n",
       "0  encantadora    ADJ       amod    ADJ  encantadoro   \n",
       "1       cidade   NOUN       nmod   NOUN       cidade   \n",
       "2        porto  PROPN       nmod  PROPN        Porto   \n",
       "3       alegre  PROPN  flat:name  PROPN       Alegre   \n",
       "4          sul   NOUN       nmod   NOUN          sul   \n",
       "5       brasil  PROPN       nmod  PROPN       Brasil   \n",
       "6        jovem   NOUN        dep   NOUN        jovem   \n",
       "7      chamado   VERB       amod   VERB       chamar   \n",
       "\n",
       "                                       morph shape  stop word  \n",
       "0                  (Gender=Fem, Number=Sing)  xxxx      False  \n",
       "1                  (Gender=Fem, Number=Sing)  xxxx      False  \n",
       "2                              (Number=Sing)  xxxx      False  \n",
       "3                              (Number=Sing)  xxxx      False  \n",
       "4                 (Gender=Masc, Number=Sing)   xxx      False  \n",
       "5                 (Gender=Masc, Number=Sing)  xxxx      False  \n",
       "6                 (Gender=Masc, Number=Sing)  xxxx      False  \n",
       "7  (Gender=Masc, Number=Sing, VerbForm=Part)  xxxx      False  "
      ]
     },
     "metadata": {},
     "output_type": "display_data"
    }
   ],
   "source": [
    "data = []\n",
    "for token in tokens_spacy:\n",
    "    data.append([token.text, token.pos_, token.dep_, token.tag_, token.lemma_, token.morph, token.shape_, token.is_stop])\n",
    "\n",
    "df = pd.DataFrame(data, columns=['texto', 'pos', 'dep', 'tag', 'lemma', 'morph', 'shape', 'stop word'])\n",
    "display(df.head(8))"
   ]
  },
  {
   "cell_type": "markdown",
   "id": "6dc32af3-3e2e-4ec2-bc8f-d8b2ae2b8a5c",
   "metadata": {},
   "source": [
    "NER por spacy"
   ]
  },
  {
   "cell_type": "code",
   "execution_count": 8,
   "id": "215903de-dbe0-46d5-8e32-b7c5059b589a",
   "metadata": {},
   "outputs": [
    {
     "data": {
      "text/html": [
       "<span class=\"tex2jax_ignore\"><div class=\"entities\" style=\"line-height: 2.5; direction: ltr\">era uma vez na encantadora cidade de \n",
       "<mark class=\"entity\" style=\"background: #ff9561; padding: 0.45em 0.6em; margin: 0 0.25em; line-height: 1; border-radius: 0.35em;\">\n",
       "    porto alegre\n",
       "    <span style=\"font-size: 0.8em; font-weight: bold; line-height: 1; border-radius: 0.35em; vertical-align: middle; margin-left: 0.5rem\">LOC</span>\n",
       "</mark>\n",
       ", no \n",
       "<mark class=\"entity\" style=\"background: #ff9561; padding: 0.45em 0.6em; margin: 0 0.25em; line-height: 1; border-radius: 0.35em;\">\n",
       "    sul do brasil\n",
       "    <span style=\"font-size: 0.8em; font-weight: bold; line-height: 1; border-radius: 0.35em; vertical-align: middle; margin-left: 0.5rem\">LOC</span>\n",
       "</mark>\n",
       ", um jovem chamado \n",
       "<mark class=\"entity\" style=\"background: #ddd; padding: 0.45em 0.6em; margin: 0 0.25em; line-height: 1; border-radius: 0.35em;\">\n",
       "    joão\n",
       "    <span style=\"font-size: 0.8em; font-weight: bold; line-height: 1; border-radius: 0.35em; vertical-align: middle; margin-left: 0.5rem\">PER</span>\n",
       "</mark>\n",
       " que sonhava em se tornar um renomado cientista. ele estudava na universidade federal do \n",
       "<mark class=\"entity\" style=\"background: #ff9561; padding: 0.45em 0.6em; margin: 0 0.25em; line-height: 1; border-radius: 0.35em;\">\n",
       "    rio grande do sul\n",
       "    <span style=\"font-size: 0.8em; font-weight: bold; line-height: 1; border-radius: 0.35em; vertical-align: middle; margin-left: 0.5rem\">LOC</span>\n",
       "</mark>\n",
       " (\n",
       "<mark class=\"entity\" style=\"background: #ff9561; padding: 0.45em 0.6em; margin: 0 0.25em; line-height: 1; border-radius: 0.35em;\">\n",
       "    ufrgs\n",
       "    <span style=\"font-size: 0.8em; font-weight: bold; line-height: 1; border-radius: 0.35em; vertical-align: middle; margin-left: 0.5rem\">LOC</span>\n",
       "</mark>\n",
       ") e passava seus dias no laboratório de pesquisa avançada, onde trabalhava em projetos inovadores.</div></span>"
      ],
      "text/plain": [
       "<IPython.core.display.HTML object>"
      ]
     },
     "metadata": {},
     "output_type": "display_data"
    },
    {
     "data": {
      "text/html": [
       "<span class=\"tex2jax_ignore\"><div class=\"entities\" style=\"line-height: 2.5; direction: ltr\">\n",
       "<mark class=\"entity\" style=\"background: #ddd; padding: 0.45em 0.6em; margin: 0 0.25em; line-height: 1; border-radius: 0.35em;\">\n",
       "    joão\n",
       "    <span style=\"font-size: 0.8em; font-weight: bold; line-height: 1; border-radius: 0.35em; vertical-align: middle; margin-left: 0.5rem\">PER</span>\n",
       "</mark>\n",
       " era fascinado por astronomia e tinha um telescópio sofisticado da marca celestron, um presente de seu avô, que também era um apaixonado pelo céu noturno. no laboratório, ele colaborava com a \n",
       "<mark class=\"entity\" style=\"background: #7aecec; padding: 0.45em 0.6em; margin: 0 0.25em; line-height: 1; border-radius: 0.35em;\">\n",
       "    dra\n",
       "    <span style=\"font-size: 0.8em; font-weight: bold; line-height: 1; border-radius: 0.35em; vertical-align: middle; margin-left: 0.5rem\">ORG</span>\n",
       "</mark>\n",
       ". \n",
       "<mark class=\"entity\" style=\"background: #ddd; padding: 0.45em 0.6em; margin: 0 0.25em; line-height: 1; border-radius: 0.35em;\">\n",
       "    maria\n",
       "    <span style=\"font-size: 0.8em; font-weight: bold; line-height: 1; border-radius: 0.35em; vertical-align: middle; margin-left: 0.5rem\">PER</span>\n",
       "</mark>\n",
       ", uma astrofísica renomada, e com seu colega de classe, \n",
       "<mark class=\"entity\" style=\"background: #ddd; padding: 0.45em 0.6em; margin: 0 0.25em; line-height: 1; border-radius: 0.35em;\">\n",
       "    pedro\n",
       "    <span style=\"font-size: 0.8em; font-weight: bold; line-height: 1; border-radius: 0.35em; vertical-align: middle; margin-left: 0.5rem\">PER</span>\n",
       "</mark>\n",
       ", um entusiasta da física quântica.</div></span>"
      ],
      "text/plain": [
       "<IPython.core.display.HTML object>"
      ]
     },
     "metadata": {},
     "output_type": "display_data"
    },
    {
     "data": {
      "text/html": [
       "<span class=\"tex2jax_ignore\"><div class=\"entities\" style=\"line-height: 2.5; direction: ltr\">certo dia, enquanto observava a constelação de \n",
       "<mark class=\"entity\" style=\"background: #ff9561; padding: 0.45em 0.6em; margin: 0 0.25em; line-height: 1; border-radius: 0.35em;\">\n",
       "    órion\n",
       "    <span style=\"font-size: 0.8em; font-weight: bold; line-height: 1; border-radius: 0.35em; vertical-align: middle; margin-left: 0.5rem\">LOC</span>\n",
       "</mark>\n",
       ", \n",
       "<mark class=\"entity\" style=\"background: #ddd; padding: 0.45em 0.6em; margin: 0 0.25em; line-height: 1; border-radius: 0.35em;\">\n",
       "    joão\n",
       "    <span style=\"font-size: 0.8em; font-weight: bold; line-height: 1; border-radius: 0.35em; vertical-align: middle; margin-left: 0.5rem\">PER</span>\n",
       "</mark>\n",
       " notou uma anomalia nos dados coletados. ele imediatamente compartilhou sua descoberta com a \n",
       "<mark class=\"entity\" style=\"background: #7aecec; padding: 0.45em 0.6em; margin: 0 0.25em; line-height: 1; border-radius: 0.35em;\">\n",
       "    dra\n",
       "    <span style=\"font-size: 0.8em; font-weight: bold; line-height: 1; border-radius: 0.35em; vertical-align: middle; margin-left: 0.5rem\">ORG</span>\n",
       "</mark>\n",
       ". \n",
       "<mark class=\"entity\" style=\"background: #ddd; padding: 0.45em 0.6em; margin: 0 0.25em; line-height: 1; border-radius: 0.35em;\">\n",
       "    maria\n",
       "    <span style=\"font-size: 0.8em; font-weight: bold; line-height: 1; border-radius: 0.35em; vertical-align: middle; margin-left: 0.5rem\">PER</span>\n",
       "</mark>\n",
       ", que sugeriu uma análise mais aprofundada utilizando o supercomputador titan, localizado no \n",
       "<mark class=\"entity\" style=\"background: #ff9561; padding: 0.45em 0.6em; margin: 0 0.25em; line-height: 1; border-radius: 0.35em;\">\n",
       "    instituto nacional\n",
       "    <span style=\"font-size: 0.8em; font-weight: bold; line-height: 1; border-radius: 0.35em; vertical-align: middle; margin-left: 0.5rem\">LOC</span>\n",
       "</mark>\n",
       " de pesquisas espaciais (\n",
       "<mark class=\"entity\" style=\"background: #ff9561; padding: 0.45em 0.6em; margin: 0 0.25em; line-height: 1; border-radius: 0.35em;\">\n",
       "    inpe\n",
       "    <span style=\"font-size: 0.8em; font-weight: bold; line-height: 1; border-radius: 0.35em; vertical-align: middle; margin-left: 0.5rem\">LOC</span>\n",
       "</mark>\n",
       "). com a ajuda de \n",
       "<mark class=\"entity\" style=\"background: #ddd; padding: 0.45em 0.6em; margin: 0 0.25em; line-height: 1; border-radius: 0.35em;\">\n",
       "    pedro\n",
       "    <span style=\"font-size: 0.8em; font-weight: bold; line-height: 1; border-radius: 0.35em; vertical-align: middle; margin-left: 0.5rem\">PER</span>\n",
       "</mark>\n",
       ", \n",
       "<mark class=\"entity\" style=\"background: #ddd; padding: 0.45em 0.6em; margin: 0 0.25em; line-height: 1; border-radius: 0.35em;\">\n",
       "    joão\n",
       "    <span style=\"font-size: 0.8em; font-weight: bold; line-height: 1; border-radius: 0.35em; vertical-align: middle; margin-left: 0.5rem\">PER</span>\n",
       "</mark>\n",
       " conseguiu interpretar os dados e concluiu que havia encontrado um novo exoplaneta orbitando uma estrela distante.</div></span>"
      ],
      "text/plain": [
       "<IPython.core.display.HTML object>"
      ]
     },
     "metadata": {},
     "output_type": "display_data"
    },
    {
     "data": {
      "text/html": [
       "<span class=\"tex2jax_ignore\"><div class=\"entities\" style=\"line-height: 2.5; direction: ltr\">a descoberta chamou a atenção da \n",
       "<mark class=\"entity\" style=\"background: #7aecec; padding: 0.45em 0.6em; margin: 0 0.25em; line-height: 1; border-radius: 0.35em;\">\n",
       "    nasa\n",
       "    <span style=\"font-size: 0.8em; font-weight: bold; line-height: 1; border-radius: 0.35em; vertical-align: middle; margin-left: 0.5rem\">ORG</span>\n",
       "</mark>\n",
       " e da \n",
       "<mark class=\"entity\" style=\"background: #7aecec; padding: 0.45em 0.6em; margin: 0 0.25em; line-height: 1; border-radius: 0.35em;\">\n",
       "    agência espacial europeia\n",
       "    <span style=\"font-size: 0.8em; font-weight: bold; line-height: 1; border-radius: 0.35em; vertical-align: middle; margin-left: 0.5rem\">ORG</span>\n",
       "</mark>\n",
       " (\n",
       "<mark class=\"entity\" style=\"background: #7aecec; padding: 0.45em 0.6em; margin: 0 0.25em; line-height: 1; border-radius: 0.35em;\">\n",
       "    esa\n",
       "    <span style=\"font-size: 0.8em; font-weight: bold; line-height: 1; border-radius: 0.35em; vertical-align: middle; margin-left: 0.5rem\">ORG</span>\n",
       "</mark>\n",
       "), que convidaram \n",
       "<mark class=\"entity\" style=\"background: #ddd; padding: 0.45em 0.6em; margin: 0 0.25em; line-height: 1; border-radius: 0.35em;\">\n",
       "    joão\n",
       "    <span style=\"font-size: 0.8em; font-weight: bold; line-height: 1; border-radius: 0.35em; vertical-align: middle; margin-left: 0.5rem\">PER</span>\n",
       "</mark>\n",
       " e sua equipe para apresentarem seus achados na conferência internacional de astronomia, a ser realizada em \n",
       "<mark class=\"entity\" style=\"background: #ff9561; padding: 0.45em 0.6em; margin: 0 0.25em; line-height: 1; border-radius: 0.35em;\">\n",
       "    paris\n",
       "    <span style=\"font-size: 0.8em; font-weight: bold; line-height: 1; border-radius: 0.35em; vertical-align: middle; margin-left: 0.5rem\">LOC</span>\n",
       "</mark>\n",
       ". com o apoio da fapergs (fundação de amparo à pesquisa do \n",
       "<mark class=\"entity\" style=\"background: #ff9561; padding: 0.45em 0.6em; margin: 0 0.25em; line-height: 1; border-radius: 0.35em;\">\n",
       "    estado do rio grande do sul\n",
       "    <span style=\"font-size: 0.8em; font-weight: bold; line-height: 1; border-radius: 0.35em; vertical-align: middle; margin-left: 0.5rem\">LOC</span>\n",
       "</mark>\n",
       "), \n",
       "<mark class=\"entity\" style=\"background: #ddd; padding: 0.45em 0.6em; margin: 0 0.25em; line-height: 1; border-radius: 0.35em;\">\n",
       "    joão\n",
       "    <span style=\"font-size: 0.8em; font-weight: bold; line-height: 1; border-radius: 0.35em; vertical-align: middle; margin-left: 0.5rem\">PER</span>\n",
       "</mark>\n",
       " viajou para a \n",
       "<mark class=\"entity\" style=\"background: #ff9561; padding: 0.45em 0.6em; margin: 0 0.25em; line-height: 1; border-radius: 0.35em;\">\n",
       "    frança\n",
       "    <span style=\"font-size: 0.8em; font-weight: bold; line-height: 1; border-radius: 0.35em; vertical-align: middle; margin-left: 0.5rem\">LOC</span>\n",
       "</mark>\n",
       ", onde seu trabalho foi aplaudido e reconhecido por cientistas de todo o mundo.</div></span>"
      ],
      "text/plain": [
       "<IPython.core.display.HTML object>"
      ]
     },
     "metadata": {},
     "output_type": "display_data"
    },
    {
     "data": {
      "text/html": [
       "<span class=\"tex2jax_ignore\"><div class=\"entities\" style=\"line-height: 2.5; direction: ltr\">ao retornar a \n",
       "<mark class=\"entity\" style=\"background: #ff9561; padding: 0.45em 0.6em; margin: 0 0.25em; line-height: 1; border-radius: 0.35em;\">\n",
       "    porto alegre\n",
       "    <span style=\"font-size: 0.8em; font-weight: bold; line-height: 1; border-radius: 0.35em; vertical-align: middle; margin-left: 0.5rem\">LOC</span>\n",
       "</mark>\n",
       ", \n",
       "<mark class=\"entity\" style=\"background: #ddd; padding: 0.45em 0.6em; margin: 0 0.25em; line-height: 1; border-radius: 0.35em;\">\n",
       "    joão\n",
       "    <span style=\"font-size: 0.8em; font-weight: bold; line-height: 1; border-radius: 0.35em; vertical-align: middle; margin-left: 0.5rem\">PER</span>\n",
       "</mark>\n",
       " foi recebido como um herói. a prefeitura da cidade organizou uma cerimônia em sua homenagem, e ele foi entrevistado por diversos meios de comunicação, incluindo a revista \n",
       "<mark class=\"entity\" style=\"background: #7aecec; padding: 0.45em 0.6em; margin: 0 0.25em; line-height: 1; border-radius: 0.35em;\">\n",
       "    scientific american\n",
       "    <span style=\"font-size: 0.8em; font-weight: bold; line-height: 1; border-radius: 0.35em; vertical-align: middle; margin-left: 0.5rem\">ORG</span>\n",
       "</mark>\n",
       " e o \n",
       "<mark class=\"entity\" style=\"background: #ddd; padding: 0.45em 0.6em; margin: 0 0.25em; line-height: 1; border-radius: 0.35em;\">\n",
       "    jornal folha de s.paulo\n",
       "    <span style=\"font-size: 0.8em; font-weight: bold; line-height: 1; border-radius: 0.35em; vertical-align: middle; margin-left: 0.5rem\">MISC</span>\n",
       "</mark>\n",
       ". sua descoberta não só enriqueceu o campo da astronomia, mas também inspirou muitos jovens a seguirem carreiras científicas.</div></span>"
      ],
      "text/plain": [
       "<IPython.core.display.HTML object>"
      ]
     },
     "metadata": {},
     "output_type": "display_data"
    },
    {
     "data": {
      "text/html": [
       "<span class=\"tex2jax_ignore\"><div class=\"entities\" style=\"line-height: 2.5; direction: ltr\">\n",
       "<mark class=\"entity\" style=\"background: #ddd; padding: 0.45em 0.6em; margin: 0 0.25em; line-height: 1; border-radius: 0.35em;\">\n",
       "    joão\n",
       "    <span style=\"font-size: 0.8em; font-weight: bold; line-height: 1; border-radius: 0.35em; vertical-align: middle; margin-left: 0.5rem\">PER</span>\n",
       "</mark>\n",
       " continuou seus estudos e pesquisas, sempre buscando desvendar os mistérios do universo. ele sabia que sua jornada estava apenas começando e que, com dedicação e paixão, poderia alcançar ainda mais conquistas no futuro.</div></span>"
      ],
      "text/plain": [
       "<IPython.core.display.HTML object>"
      ]
     },
     "metadata": {},
     "output_type": "display_data"
    }
   ],
   "source": [
    "for doc in docs:\n",
    "    displacy.render(doc, style='ent', jupyter = True)"
   ]
  },
  {
   "cell_type": "code",
   "execution_count": 9,
   "id": "c23cff8f-a5cd-4f0e-aed9-13ae80878abc",
   "metadata": {},
   "outputs": [
    {
     "name": "stdout",
     "output_type": "stream",
     "text": [
      "['tok2vec', 'morphologizer', 'parser', 'lemmatizer', 'attribute_ruler', 'ner']\n"
     ]
    }
   ],
   "source": [
    "print(nlp.pipe_names)"
   ]
  }
 ],
 "metadata": {
  "kernelspec": {
   "display_name": "Python 3 (ipykernel)",
   "language": "python",
   "name": "python3"
  },
  "language_info": {
   "codemirror_mode": {
    "name": "ipython",
    "version": 3
   },
   "file_extension": ".py",
   "mimetype": "text/x-python",
   "name": "python",
   "nbconvert_exporter": "python",
   "pygments_lexer": "ipython3",
   "version": "3.11.5"
  }
 },
 "nbformat": 4,
 "nbformat_minor": 5
}
