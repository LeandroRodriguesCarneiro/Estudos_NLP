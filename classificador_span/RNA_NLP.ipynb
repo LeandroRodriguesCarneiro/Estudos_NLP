{
 "cells": [
  {
   "cell_type": "markdown",
   "id": "e342600a-54f7-4e6e-981d-8734d9a5482f",
   "metadata": {},
   "source": [
    "# Classificador de spam via modelo de ML"
   ]
  },
  {
   "cell_type": "code",
   "execution_count": 1,
   "id": "c42d84a3-d719-445b-96c5-094d80909760",
   "metadata": {},
   "outputs": [],
   "source": [
    "import pandas as pd\n",
    "from sklearn.model_selection import train_test_split\n",
    "from sklearn import metrics\n",
    "from sklearn.metrics import confusion_matrix, accuracy_score\n",
    "from sklearn.ensemble import RandomForestClassifier\n",
    "from sklearn.feature_extraction.text import TfidfVectorizer"
   ]
  },
  {
   "cell_type": "code",
   "execution_count": 2,
   "id": "2cd97381-dfaf-4cf5-838f-805897148cfa",
   "metadata": {},
   "outputs": [
    {
     "data": {
      "text/html": [
       "<div>\n",
       "<style scoped>\n",
       "    .dataframe tbody tr th:only-of-type {\n",
       "        vertical-align: middle;\n",
       "    }\n",
       "\n",
       "    .dataframe tbody tr th {\n",
       "        vertical-align: top;\n",
       "    }\n",
       "\n",
       "    .dataframe thead th {\n",
       "        text-align: right;\n",
       "    }\n",
       "</style>\n",
       "<table border=\"1\" class=\"dataframe\">\n",
       "  <thead>\n",
       "    <tr style=\"text-align: right;\">\n",
       "      <th></th>\n",
       "      <th>Category</th>\n",
       "      <th>Message</th>\n",
       "    </tr>\n",
       "  </thead>\n",
       "  <tbody>\n",
       "    <tr>\n",
       "      <th>0</th>\n",
       "      <td>ham</td>\n",
       "      <td>Go until jurong point, crazy.. Available only ...</td>\n",
       "    </tr>\n",
       "    <tr>\n",
       "      <th>1</th>\n",
       "      <td>ham</td>\n",
       "      <td>Ok lar... Joking wif u oni...</td>\n",
       "    </tr>\n",
       "    <tr>\n",
       "      <th>2</th>\n",
       "      <td>spam</td>\n",
       "      <td>Free entry in 2 a wkly comp to win FA Cup fina...</td>\n",
       "    </tr>\n",
       "    <tr>\n",
       "      <th>3</th>\n",
       "      <td>ham</td>\n",
       "      <td>U dun say so early hor... U c already then say...</td>\n",
       "    </tr>\n",
       "    <tr>\n",
       "      <th>4</th>\n",
       "      <td>ham</td>\n",
       "      <td>Nah I don't think he goes to usf, he lives aro...</td>\n",
       "    </tr>\n",
       "  </tbody>\n",
       "</table>\n",
       "</div>"
      ],
      "text/plain": [
       "  Category                                            Message\n",
       "0      ham  Go until jurong point, crazy.. Available only ...\n",
       "1      ham                      Ok lar... Joking wif u oni...\n",
       "2     spam  Free entry in 2 a wkly comp to win FA Cup fina...\n",
       "3      ham  U dun say so early hor... U c already then say...\n",
       "4      ham  Nah I don't think he goes to usf, he lives aro..."
      ]
     },
     "execution_count": 2,
     "metadata": {},
     "output_type": "execute_result"
    }
   ],
   "source": [
    "spam = pd.read_csv(\"spam.csv\")\n",
    "spam.head()"
   ]
  },
  {
   "cell_type": "code",
   "execution_count": 3,
   "id": "fb50165d-e5db-4181-b0e2-e2f082365416",
   "metadata": {},
   "outputs": [
    {
     "data": {
      "text/plain": [
       "(5572, 2)"
      ]
     },
     "execution_count": 3,
     "metadata": {},
     "output_type": "execute_result"
    }
   ],
   "source": [
    "spam.shape"
   ]
  },
  {
   "cell_type": "code",
   "execution_count": 4,
   "id": "5c0352e2-c0a7-420c-a874-e0fd100b3d51",
   "metadata": {},
   "outputs": [
    {
     "data": {
      "text/plain": [
       "ham     4825\n",
       "spam     747\n",
       "Name: Category, dtype: int64"
      ]
     },
     "execution_count": 4,
     "metadata": {},
     "output_type": "execute_result"
    }
   ],
   "source": [
    "spam['Category'].value_counts()"
   ]
  },
  {
   "cell_type": "code",
   "execution_count": 5,
   "id": "208f0e49-5e7c-4bd4-9f50-a7e2c23305eb",
   "metadata": {},
   "outputs": [],
   "source": [
    "previ = spam['Message']\n",
    "classe = spam['Category']"
   ]
  },
  {
   "cell_type": "code",
   "execution_count": 6,
   "id": "2a6ac79c-42ca-4401-8bec-38308dbac863",
   "metadata": {},
   "outputs": [
    {
     "data": {
      "text/plain": [
       "(5572, 8709)"
      ]
     },
     "execution_count": 6,
     "metadata": {},
     "output_type": "execute_result"
    }
   ],
   "source": [
    "vectorizer_tfidf = TfidfVectorizer()\n",
    "previsor = vectorizer_tfidf.fit_transform(previ)\n",
    "previsor.shape"
   ]
  },
  {
   "cell_type": "code",
   "execution_count": 7,
   "id": "0cfbeefd-01d9-493a-b927-6c21ce5297f9",
   "metadata": {},
   "outputs": [],
   "source": [
    "x_train, x_test, y_train, y_test = train_test_split(previsor, classe, test_size=0.3)"
   ]
  },
  {
   "cell_type": "code",
   "execution_count": 8,
   "id": "0140445d-c076-46c2-970c-2eb5690ebe44",
   "metadata": {},
   "outputs": [
    {
     "data": {
      "text/html": [
       "<style>#sk-container-id-1 {color: black;}#sk-container-id-1 pre{padding: 0;}#sk-container-id-1 div.sk-toggleable {background-color: white;}#sk-container-id-1 label.sk-toggleable__label {cursor: pointer;display: block;width: 100%;margin-bottom: 0;padding: 0.3em;box-sizing: border-box;text-align: center;}#sk-container-id-1 label.sk-toggleable__label-arrow:before {content: \"▸\";float: left;margin-right: 0.25em;color: #696969;}#sk-container-id-1 label.sk-toggleable__label-arrow:hover:before {color: black;}#sk-container-id-1 div.sk-estimator:hover label.sk-toggleable__label-arrow:before {color: black;}#sk-container-id-1 div.sk-toggleable__content {max-height: 0;max-width: 0;overflow: hidden;text-align: left;background-color: #f0f8ff;}#sk-container-id-1 div.sk-toggleable__content pre {margin: 0.2em;color: black;border-radius: 0.25em;background-color: #f0f8ff;}#sk-container-id-1 input.sk-toggleable__control:checked~div.sk-toggleable__content {max-height: 200px;max-width: 100%;overflow: auto;}#sk-container-id-1 input.sk-toggleable__control:checked~label.sk-toggleable__label-arrow:before {content: \"▾\";}#sk-container-id-1 div.sk-estimator input.sk-toggleable__control:checked~label.sk-toggleable__label {background-color: #d4ebff;}#sk-container-id-1 div.sk-label input.sk-toggleable__control:checked~label.sk-toggleable__label {background-color: #d4ebff;}#sk-container-id-1 input.sk-hidden--visually {border: 0;clip: rect(1px 1px 1px 1px);clip: rect(1px, 1px, 1px, 1px);height: 1px;margin: -1px;overflow: hidden;padding: 0;position: absolute;width: 1px;}#sk-container-id-1 div.sk-estimator {font-family: monospace;background-color: #f0f8ff;border: 1px dotted black;border-radius: 0.25em;box-sizing: border-box;margin-bottom: 0.5em;}#sk-container-id-1 div.sk-estimator:hover {background-color: #d4ebff;}#sk-container-id-1 div.sk-parallel-item::after {content: \"\";width: 100%;border-bottom: 1px solid gray;flex-grow: 1;}#sk-container-id-1 div.sk-label:hover label.sk-toggleable__label {background-color: #d4ebff;}#sk-container-id-1 div.sk-serial::before {content: \"\";position: absolute;border-left: 1px solid gray;box-sizing: border-box;top: 0;bottom: 0;left: 50%;z-index: 0;}#sk-container-id-1 div.sk-serial {display: flex;flex-direction: column;align-items: center;background-color: white;padding-right: 0.2em;padding-left: 0.2em;position: relative;}#sk-container-id-1 div.sk-item {position: relative;z-index: 1;}#sk-container-id-1 div.sk-parallel {display: flex;align-items: stretch;justify-content: center;background-color: white;position: relative;}#sk-container-id-1 div.sk-item::before, #sk-container-id-1 div.sk-parallel-item::before {content: \"\";position: absolute;border-left: 1px solid gray;box-sizing: border-box;top: 0;bottom: 0;left: 50%;z-index: -1;}#sk-container-id-1 div.sk-parallel-item {display: flex;flex-direction: column;z-index: 1;position: relative;background-color: white;}#sk-container-id-1 div.sk-parallel-item:first-child::after {align-self: flex-end;width: 50%;}#sk-container-id-1 div.sk-parallel-item:last-child::after {align-self: flex-start;width: 50%;}#sk-container-id-1 div.sk-parallel-item:only-child::after {width: 0;}#sk-container-id-1 div.sk-dashed-wrapped {border: 1px dashed gray;margin: 0 0.4em 0.5em 0.4em;box-sizing: border-box;padding-bottom: 0.4em;background-color: white;}#sk-container-id-1 div.sk-label label {font-family: monospace;font-weight: bold;display: inline-block;line-height: 1.2em;}#sk-container-id-1 div.sk-label-container {text-align: center;}#sk-container-id-1 div.sk-container {/* jupyter's `normalize.less` sets `[hidden] { display: none; }` but bootstrap.min.css set `[hidden] { display: none !important; }` so we also need the `!important` here to be able to override the default hidden behavior on the sphinx rendered scikit-learn.org. See: https://github.com/scikit-learn/scikit-learn/issues/21755 */display: inline-block !important;position: relative;}#sk-container-id-1 div.sk-text-repr-fallback {display: none;}</style><div id=\"sk-container-id-1\" class=\"sk-top-container\"><div class=\"sk-text-repr-fallback\"><pre>RandomForestClassifier(n_estimators=500)</pre><b>In a Jupyter environment, please rerun this cell to show the HTML representation or trust the notebook. <br />On GitHub, the HTML representation is unable to render, please try loading this page with nbviewer.org.</b></div><div class=\"sk-container\" hidden><div class=\"sk-item\"><div class=\"sk-estimator sk-toggleable\"><input class=\"sk-toggleable__control sk-hidden--visually\" id=\"sk-estimator-id-1\" type=\"checkbox\" checked><label for=\"sk-estimator-id-1\" class=\"sk-toggleable__label sk-toggleable__label-arrow\">RandomForestClassifier</label><div class=\"sk-toggleable__content\"><pre>RandomForestClassifier(n_estimators=500)</pre></div></div></div></div></div>"
      ],
      "text/plain": [
       "RandomForestClassifier(n_estimators=500)"
      ]
     },
     "execution_count": 8,
     "metadata": {},
     "output_type": "execute_result"
    }
   ],
   "source": [
    "forest = RandomForestClassifier(n_estimators=500)\n",
    "forest.fit(x_train, y_train)"
   ]
  },
  {
   "cell_type": "code",
   "execution_count": 9,
   "id": "ad0ca6a2-d8a6-4e85-b88e-2d12908e496b",
   "metadata": {},
   "outputs": [
    {
     "name": "stdout",
     "output_type": "stream",
     "text": [
      "[[1443    2]\n",
      " [  37  190]]\n"
     ]
    }
   ],
   "source": [
    "previsoes = forest.predict(x_test)\n",
    "print(confusion_matrix(y_test, previsoes))"
   ]
  },
  {
   "cell_type": "code",
   "execution_count": 10,
   "id": "cb575e51-1e87-489b-9081-e26d73ad5a15",
   "metadata": {},
   "outputs": [
    {
     "name": "stdout",
     "output_type": "stream",
     "text": [
      "0.9766746411483254\n",
      "              precision    recall  f1-score   support\n",
      "\n",
      "         ham       0.97      1.00      0.99      1445\n",
      "        spam       0.99      0.84      0.91       227\n",
      "\n",
      "    accuracy                           0.98      1672\n",
      "   macro avg       0.98      0.92      0.95      1672\n",
      "weighted avg       0.98      0.98      0.98      1672\n",
      "\n"
     ]
    }
   ],
   "source": [
    "print(accuracy_score(y_test, previsoes))\n",
    "print(metrics.classification_report(y_test, previsoes))"
   ]
  },
  {
   "cell_type": "markdown",
   "id": "d317bcc7-26d9-4a72-8c4a-52ebb2ca05fb",
   "metadata": {},
   "source": [
    "# Classificador de Spam via RNA\n",
    "\n",
    "## funções de ativação: relu e sigmoid"
   ]
  },
  {
   "cell_type": "code",
   "execution_count": 11,
   "id": "d1a3d2f7-99df-421e-9252-3bf245694923",
   "metadata": {},
   "outputs": [],
   "source": [
    "import pandas as pd\n",
    "from sklearn.model_selection import train_test_split\n",
    "from sklearn.preprocessing import LabelEncoder\n",
    "from sklearn.feature_extraction.text import CountVectorizer\n",
    "from sklearn.metrics import confusion_matrix\n",
    "from keras.models import Sequential\n",
    "from keras.layers import Dense, Dropout"
   ]
  },
  {
   "cell_type": "code",
   "execution_count": 12,
   "id": "098dd684-f5b3-4732-abf9-e14bcab40d0a",
   "metadata": {},
   "outputs": [
    {
     "data": {
      "text/html": [
       "<div>\n",
       "<style scoped>\n",
       "    .dataframe tbody tr th:only-of-type {\n",
       "        vertical-align: middle;\n",
       "    }\n",
       "\n",
       "    .dataframe tbody tr th {\n",
       "        vertical-align: top;\n",
       "    }\n",
       "\n",
       "    .dataframe thead th {\n",
       "        text-align: right;\n",
       "    }\n",
       "</style>\n",
       "<table border=\"1\" class=\"dataframe\">\n",
       "  <thead>\n",
       "    <tr style=\"text-align: right;\">\n",
       "      <th></th>\n",
       "      <th>Category</th>\n",
       "      <th>Message</th>\n",
       "    </tr>\n",
       "  </thead>\n",
       "  <tbody>\n",
       "    <tr>\n",
       "      <th>0</th>\n",
       "      <td>ham</td>\n",
       "      <td>Go until jurong point, crazy.. Available only ...</td>\n",
       "    </tr>\n",
       "    <tr>\n",
       "      <th>1</th>\n",
       "      <td>ham</td>\n",
       "      <td>Ok lar... Joking wif u oni...</td>\n",
       "    </tr>\n",
       "    <tr>\n",
       "      <th>2</th>\n",
       "      <td>spam</td>\n",
       "      <td>Free entry in 2 a wkly comp to win FA Cup fina...</td>\n",
       "    </tr>\n",
       "    <tr>\n",
       "      <th>3</th>\n",
       "      <td>ham</td>\n",
       "      <td>U dun say so early hor... U c already then say...</td>\n",
       "    </tr>\n",
       "    <tr>\n",
       "      <th>4</th>\n",
       "      <td>ham</td>\n",
       "      <td>Nah I don't think he goes to usf, he lives aro...</td>\n",
       "    </tr>\n",
       "  </tbody>\n",
       "</table>\n",
       "</div>"
      ],
      "text/plain": [
       "  Category                                            Message\n",
       "0      ham  Go until jurong point, crazy.. Available only ...\n",
       "1      ham                      Ok lar... Joking wif u oni...\n",
       "2     spam  Free entry in 2 a wkly comp to win FA Cup fina...\n",
       "3      ham  U dun say so early hor... U c already then say...\n",
       "4      ham  Nah I don't think he goes to usf, he lives aro..."
      ]
     },
     "execution_count": 12,
     "metadata": {},
     "output_type": "execute_result"
    }
   ],
   "source": [
    "spam = pd.read_csv(\"spam.csv\")\n",
    "spam.head()"
   ]
  },
  {
   "cell_type": "code",
   "execution_count": 13,
   "id": "1c70aca0-367e-4169-bfb8-c33a78792d2b",
   "metadata": {},
   "outputs": [
    {
     "data": {
      "text/plain": [
       "array([0, 0, 1, ..., 0, 0, 0])"
      ]
     },
     "metadata": {},
     "output_type": "display_data"
    }
   ],
   "source": [
    "label_encoder = LabelEncoder()\n",
    "y = label_encoder.fit_transform(spam['Category'])\n",
    "display(y)"
   ]
  },
  {
   "cell_type": "code",
   "execution_count": 14,
   "id": "64706797-e9ba-42e7-b73c-f0fb640c4958",
   "metadata": {},
   "outputs": [
    {
     "name": "stdout",
     "output_type": "stream",
     "text": [
      "['Hope you are having a good week. Just checking in'\n",
      " 'Dear Voucher holder Have your next meal on us. Use the following link on your pc 2 enjoy a 2 4 1 dining experiencehttp://www.vouch4me.com/etlp/dining.asp'\n",
      " 'Okey dokey, i‘ll be over in a bit just sorting some stuff out.' ...\n",
      " 'Fuck cedar key and fuck her (come over anyway tho)'\n",
      " 'Yo, you around? Just got my car back' 'Ok i msg u b4 i leave my house.']\n"
     ]
    }
   ],
   "source": [
    "mensagens = spam['Message'].values\n",
    "x_train, x_test, y_train, y_test = train_test_split(mensagens, y, test_size=0.3)\n",
    "print(x_train)"
   ]
  },
  {
   "cell_type": "code",
   "execution_count": 15,
   "id": "aef5ad27-a86b-4a8f-8319-cedda005eda5",
   "metadata": {},
   "outputs": [
    {
     "data": {
      "text/plain": [
       "array([[0, 0, 0, ..., 0, 0, 0],\n",
       "       [0, 0, 0, ..., 0, 0, 0],\n",
       "       [0, 0, 0, ..., 0, 0, 0],\n",
       "       ...,\n",
       "       [0, 0, 0, ..., 0, 0, 0],\n",
       "       [0, 0, 0, ..., 0, 0, 0],\n",
       "       [0, 0, 0, ..., 0, 0, 0]])"
      ]
     },
     "metadata": {},
     "output_type": "display_data"
    }
   ],
   "source": [
    "vectorizer = CountVectorizer()\n",
    "vectorizer.fit(x_train)\n",
    "x_train = vectorizer.transform(x_train)\n",
    "x_test = vectorizer.transform(x_test)\n",
    "display(x_train.toarray())"
   ]
  },
  {
   "cell_type": "code",
   "execution_count": 16,
   "id": "8a9ea887-1ed7-4049-ba6d-e20a436c3962",
   "metadata": {},
   "outputs": [
    {
     "name": "stdout",
     "output_type": "stream",
     "text": [
      "7118\n",
      "1\n"
     ]
    }
   ],
   "source": [
    "input_dim = x_train.shape[1]\n",
    "output_dim =1\n",
    "print(input_dim)\n",
    "print(output_dim)\n",
    "model = Sequential()\n",
    "model.add(Dense(units=10, activation='relu', input_dim=input_dim))\n",
    "model.add(Dropout(0.1))\n",
    "model.add(Dense(units=8, activation='relu'))\n",
    "model.add(Dropout(0.1))\n",
    "model.add(Dense(units=output_dim, activation='sigmoid'))"
   ]
  },
  {
   "cell_type": "code",
   "execution_count": 17,
   "id": "741652eb-ba79-4491-be48-dc85cb442c3d",
   "metadata": {},
   "outputs": [
    {
     "name": "stdout",
     "output_type": "stream",
     "text": [
      "Model: \"sequential\"\n",
      "_________________________________________________________________\n",
      " Layer (type)                Output Shape              Param #   \n",
      "=================================================================\n",
      " dense (Dense)               (None, 10)                71190     \n",
      "                                                                 \n",
      " dropout (Dropout)           (None, 10)                0         \n",
      "                                                                 \n",
      " dense_1 (Dense)             (None, 8)                 88        \n",
      "                                                                 \n",
      " dropout_1 (Dropout)         (None, 8)                 0         \n",
      "                                                                 \n",
      " dense_2 (Dense)             (None, 1)                 9         \n",
      "                                                                 \n",
      "=================================================================\n",
      "Total params: 71287 (278.46 KB)\n",
      "Trainable params: 71287 (278.46 KB)\n",
      "Non-trainable params: 0 (0.00 Byte)\n",
      "_________________________________________________________________\n"
     ]
    }
   ],
   "source": [
    "model.compile(loss='mean_squared_error', optimizer='adam', metrics=['accuracy'])\n",
    "model.summary()"
   ]
  },
  {
   "cell_type": "code",
   "execution_count": 18,
   "id": "da2ed04e-797c-4202-b352-68f83e38a895",
   "metadata": {},
   "outputs": [
    {
     "name": "stdout",
     "output_type": "stream",
     "text": [
      "Epoch 1/20\n",
      "390/390 [==============================] - 2s 4ms/step - loss: 0.0843 - accuracy: 0.9364 - val_loss: 0.0189 - val_accuracy: 0.9815\n",
      "Epoch 2/20\n",
      "390/390 [==============================] - 1s 3ms/step - loss: 0.0120 - accuracy: 0.9890 - val_loss: 0.0129 - val_accuracy: 0.9874\n",
      "Epoch 3/20\n",
      "390/390 [==============================] - 1s 3ms/step - loss: 0.0067 - accuracy: 0.9933 - val_loss: 0.0125 - val_accuracy: 0.9850\n",
      "Epoch 4/20\n",
      "390/390 [==============================] - 1s 3ms/step - loss: 0.0038 - accuracy: 0.9964 - val_loss: 0.0123 - val_accuracy: 0.9862\n",
      "Epoch 5/20\n",
      "390/390 [==============================] - 2s 4ms/step - loss: 0.0022 - accuracy: 0.9977 - val_loss: 0.0119 - val_accuracy: 0.9880\n",
      "Epoch 6/20\n",
      "390/390 [==============================] - 2s 4ms/step - loss: 0.0017 - accuracy: 0.9979 - val_loss: 0.0124 - val_accuracy: 0.9880\n",
      "Epoch 7/20\n",
      "390/390 [==============================] - 1s 2ms/step - loss: 0.0012 - accuracy: 0.9987 - val_loss: 0.0113 - val_accuracy: 0.9892\n",
      "Epoch 8/20\n",
      "390/390 [==============================] - 1s 2ms/step - loss: 0.0012 - accuracy: 0.9987 - val_loss: 0.0131 - val_accuracy: 0.9856\n",
      "Epoch 9/20\n",
      "390/390 [==============================] - 1s 2ms/step - loss: 5.2069e-04 - accuracy: 0.9997 - val_loss: 0.0125 - val_accuracy: 0.9868\n",
      "Epoch 10/20\n",
      "390/390 [==============================] - 1s 2ms/step - loss: 4.7474e-04 - accuracy: 0.9995 - val_loss: 0.0120 - val_accuracy: 0.9868\n",
      "Epoch 11/20\n",
      "390/390 [==============================] - 1s 2ms/step - loss: 3.2828e-04 - accuracy: 0.9995 - val_loss: 0.0114 - val_accuracy: 0.9880\n",
      "Epoch 12/20\n",
      "390/390 [==============================] - 1s 2ms/step - loss: 1.6307e-04 - accuracy: 1.0000 - val_loss: 0.0130 - val_accuracy: 0.9868\n",
      "Epoch 13/20\n",
      "390/390 [==============================] - 1s 2ms/step - loss: 3.6481e-04 - accuracy: 0.9995 - val_loss: 0.0126 - val_accuracy: 0.9862\n",
      "Epoch 14/20\n",
      "390/390 [==============================] - 1s 2ms/step - loss: 1.8677e-04 - accuracy: 1.0000 - val_loss: 0.0127 - val_accuracy: 0.9862\n",
      "Epoch 15/20\n",
      "390/390 [==============================] - 1s 2ms/step - loss: 1.1990e-04 - accuracy: 1.0000 - val_loss: 0.0138 - val_accuracy: 0.9844\n",
      "Epoch 16/20\n",
      "390/390 [==============================] - 1s 2ms/step - loss: 1.4865e-04 - accuracy: 0.9997 - val_loss: 0.0138 - val_accuracy: 0.9850\n",
      "Epoch 17/20\n",
      "390/390 [==============================] - 1s 2ms/step - loss: 1.6546e-04 - accuracy: 1.0000 - val_loss: 0.0116 - val_accuracy: 0.9868\n",
      "Epoch 18/20\n",
      "390/390 [==============================] - 1s 2ms/step - loss: 1.4155e-04 - accuracy: 0.9997 - val_loss: 0.0129 - val_accuracy: 0.9850\n",
      "Epoch 19/20\n",
      "390/390 [==============================] - 1s 2ms/step - loss: 1.6436e-04 - accuracy: 0.9997 - val_loss: 0.0130 - val_accuracy: 0.9856\n",
      "Epoch 20/20\n",
      "390/390 [==============================] - 1s 3ms/step - loss: 1.7727e-05 - accuracy: 1.0000 - val_loss: 0.0139 - val_accuracy: 0.9844\n"
     ]
    },
    {
     "data": {
      "text/plain": [
       "<keras.src.callbacks.History at 0x7f4494972190>"
      ]
     },
     "execution_count": 18,
     "metadata": {},
     "output_type": "execute_result"
    }
   ],
   "source": [
    "model.fit(x_train, y_train, epochs=20, batch_size=10, verbose=True, validation_data=(x_test, y_test))"
   ]
  },
  {
   "cell_type": "code",
   "execution_count": 19,
   "id": "9ab94e99-eadd-4ac5-bc01-010a4523c671",
   "metadata": {},
   "outputs": [
    {
     "name": "stdout",
     "output_type": "stream",
     "text": [
      "53/53 [==============================] - 0s 958us/step - loss: 0.0139 - accuracy: 0.9844\n",
      "loss:  0.013948073610663414\n",
      "Acuracia:  0.9844497442245483\n"
     ]
    }
   ],
   "source": [
    "loss, accuracy = model.evaluate(x_test, y_test)\n",
    "print('loss: ', loss)\n",
    "print('Acuracia: ',accuracy)"
   ]
  },
  {
   "cell_type": "code",
   "execution_count": 20,
   "id": "13380418-89b4-4b4c-a848-e31cd0139417",
   "metadata": {},
   "outputs": [
    {
     "name": "stdout",
     "output_type": "stream",
     "text": [
      "53/53 [==============================] - 0s 2ms/step\n",
      "[[False]\n",
      " [False]\n",
      " [ True]\n",
      " [False]\n",
      " [ True]\n",
      " [False]\n",
      " [False]\n",
      " [False]\n",
      " [False]\n",
      " [ True]]\n"
     ]
    }
   ],
   "source": [
    "nova_previsao  = model.predict(x_test)\n",
    "prev = (nova_previsao > 0.5)\n",
    "print(prev[:10])"
   ]
  },
  {
   "cell_type": "code",
   "execution_count": 21,
   "id": "321b70f3-89d9-47b4-98f2-69478c195e67",
   "metadata": {},
   "outputs": [
    {
     "name": "stdout",
     "output_type": "stream",
     "text": [
      "[[1452    0]\n",
      " [  26  194]]\n"
     ]
    }
   ],
   "source": [
    "cm = confusion_matrix(y_test, prev)\n",
    "print(cm)"
   ]
  },
  {
   "cell_type": "markdown",
   "id": "37e1290b-4d1d-4997-bac4-f0c58ce37573",
   "metadata": {},
   "source": [
    "## Criando o proprio Embedding"
   ]
  },
  {
   "cell_type": "code",
   "execution_count": 22,
   "id": "fa1f54d0-0f08-487d-941c-3f7d4bae80a6",
   "metadata": {},
   "outputs": [],
   "source": [
    "import pandas as pd\n",
    "from sklearn.model_selection import train_test_split\n",
    "from sklearn.preprocessing import LabelEncoder\n",
    "from sklearn.feature_extraction.text import CountVectorizer\n",
    "from sklearn.metrics import confusion_matrix\n",
    "from keras.models import Sequential\n",
    "from keras.layers import Dense, Dropout, Flatten, Embedding\n",
    "\n",
    "from keras.preprocessing.text import Tokenizer\n",
    "from keras.preprocessing.sequence import pad_sequences"
   ]
  },
  {
   "cell_type": "code",
   "execution_count": 23,
   "id": "c570c843-3729-43a1-bda5-c884e4b6f6a5",
   "metadata": {},
   "outputs": [
    {
     "data": {
      "text/html": [
       "<div>\n",
       "<style scoped>\n",
       "    .dataframe tbody tr th:only-of-type {\n",
       "        vertical-align: middle;\n",
       "    }\n",
       "\n",
       "    .dataframe tbody tr th {\n",
       "        vertical-align: top;\n",
       "    }\n",
       "\n",
       "    .dataframe thead th {\n",
       "        text-align: right;\n",
       "    }\n",
       "</style>\n",
       "<table border=\"1\" class=\"dataframe\">\n",
       "  <thead>\n",
       "    <tr style=\"text-align: right;\">\n",
       "      <th></th>\n",
       "      <th>Category</th>\n",
       "      <th>Message</th>\n",
       "    </tr>\n",
       "  </thead>\n",
       "  <tbody>\n",
       "    <tr>\n",
       "      <th>0</th>\n",
       "      <td>ham</td>\n",
       "      <td>Go until jurong point, crazy.. Available only ...</td>\n",
       "    </tr>\n",
       "    <tr>\n",
       "      <th>1</th>\n",
       "      <td>ham</td>\n",
       "      <td>Ok lar... Joking wif u oni...</td>\n",
       "    </tr>\n",
       "    <tr>\n",
       "      <th>2</th>\n",
       "      <td>spam</td>\n",
       "      <td>Free entry in 2 a wkly comp to win FA Cup fina...</td>\n",
       "    </tr>\n",
       "    <tr>\n",
       "      <th>3</th>\n",
       "      <td>ham</td>\n",
       "      <td>U dun say so early hor... U c already then say...</td>\n",
       "    </tr>\n",
       "    <tr>\n",
       "      <th>4</th>\n",
       "      <td>ham</td>\n",
       "      <td>Nah I don't think he goes to usf, he lives aro...</td>\n",
       "    </tr>\n",
       "  </tbody>\n",
       "</table>\n",
       "</div>"
      ],
      "text/plain": [
       "  Category                                            Message\n",
       "0      ham  Go until jurong point, crazy.. Available only ...\n",
       "1      ham                      Ok lar... Joking wif u oni...\n",
       "2     spam  Free entry in 2 a wkly comp to win FA Cup fina...\n",
       "3      ham  U dun say so early hor... U c already then say...\n",
       "4      ham  Nah I don't think he goes to usf, he lives aro..."
      ]
     },
     "execution_count": 23,
     "metadata": {},
     "output_type": "execute_result"
    }
   ],
   "source": [
    "spam = pd.read_csv(\"spam.csv\")\n",
    "spam.head()"
   ]
  },
  {
   "cell_type": "code",
   "execution_count": 24,
   "id": "18faa137-11f0-453e-a11f-c1863cf9e86e",
   "metadata": {},
   "outputs": [
    {
     "data": {
      "text/plain": [
       "array([0, 0, 1, 0, 0, 1, 0, 0, 1, 1])"
      ]
     },
     "metadata": {},
     "output_type": "display_data"
    }
   ],
   "source": [
    "label_encoder = LabelEncoder()\n",
    "y = label_encoder.fit_transform(spam['Category'])\n",
    "display(y[:10])"
   ]
  },
  {
   "cell_type": "code",
   "execution_count": 25,
   "id": "b335db37-cd8d-45fd-a77b-3cd239ddf59a",
   "metadata": {},
   "outputs": [
    {
     "name": "stdout",
     "output_type": "stream",
     "text": [
      "[\"What's the significance?\" \"I'm good. Have you registered to vote?\"\n",
      " 'Thanks. It was only from tescos but quite nice. All gone now. Speak soon'\n",
      " 'S:)no competition for him.' \"I don't think he has spatula hands!\"\n",
      " 'Was gr8 to see that message. So when r u leaving? Congrats dear. What school and wat r ur plans.'\n",
      " \"For ur chance to win £250 cash every wk TXT: PLAY to 83370. T's&C's www.music-trivia.net custcare 08715705022, 1x150p/wk.\"\n",
      " 'Reason is if the team budget is available at last they buy the unsold players for at base rate..'\n",
      " 'Yes ammae....life takes lot of turns you can only sit and try to hold the steering...'\n",
      " 'I donno if they are scorable']\n"
     ]
    }
   ],
   "source": [
    "mensagens = spam['Message'].values\n",
    "x_train, x_test, y_train, y_test = train_test_split(mensagens, y, test_size=0.3)\n",
    "print(x_train[:10])"
   ]
  },
  {
   "cell_type": "code",
   "execution_count": 26,
   "id": "ab9975cf-34b5-4fb4-a213-ff9dddc583b6",
   "metadata": {},
   "outputs": [],
   "source": [
    "token = Tokenizer(num_words=1000)\n",
    "token.fit_on_texts(x_train)\n",
    "\n",
    "x_train = token.texts_to_sequences(x_train)\n",
    "x_test = token.texts_to_sequences(x_test)"
   ]
  },
  {
   "cell_type": "code",
   "execution_count": 27,
   "id": "eb264d31-975c-4110-bfab-d1abcd7a8a79",
   "metadata": {},
   "outputs": [
    {
     "name": "stdout",
     "output_type": "stream",
     "text": [
      "[[478, 5], [28, 58, 17, 3, 2], [169, 14, 65, 62, 43, 25, 372, 220, 52, 837, 21, 418, 247], [209, 38, 11, 122], [1, 96, 106, 63, 117], [65, 928, 2, 83, 20, 157, 23, 47, 72, 6, 561, 643, 113, 53, 460, 7, 146, 72, 35, 929], [11, 35, 329, 2, 193, 775, 182, 230, 308, 74, 321, 2, 604, 140, 508, 537, 930, 308], [838, 9, 33, 5, 9, 644, 29, 168, 114, 183, 5, 11, 29, 373], [143, 164, 309, 15, 3, 26, 62, 7, 269, 2, 839, 5], [1, 33, 114, 22]]\n"
     ]
    }
   ],
   "source": [
    "print(x_train[:10])"
   ]
  },
  {
   "cell_type": "code",
   "execution_count": 28,
   "id": "3468ae25-a657-40a2-bab3-583b027c168d",
   "metadata": {},
   "outputs": [],
   "source": [
    "x_train = pad_sequences(x_train, padding='post', maxlen=500)\n",
    "x_test = pad_sequences(x_test, padding='post', maxlen=500)"
   ]
  },
  {
   "cell_type": "code",
   "execution_count": 29,
   "id": "924cde17-d162-447f-894a-d042025a2796",
   "metadata": {},
   "outputs": [
    {
     "name": "stdout",
     "output_type": "stream",
     "text": [
      "[478   5   0   0   0   0   0   0   0   0   0   0   0   0   0   0   0   0\n",
      "   0   0   0   0   0   0   0   0   0   0   0   0   0   0   0   0   0   0\n",
      "   0   0   0   0   0   0   0   0   0   0   0   0   0   0   0   0   0   0\n",
      "   0   0   0   0   0   0   0   0   0   0   0   0   0   0   0   0   0   0\n",
      "   0   0   0   0   0   0   0   0   0   0   0   0   0   0   0   0   0   0\n",
      "   0   0   0   0   0   0   0   0   0   0   0   0   0   0   0   0   0   0\n",
      "   0   0   0   0   0   0   0   0   0   0   0   0   0   0   0   0   0   0\n",
      "   0   0   0   0   0   0   0   0   0   0   0   0   0   0   0   0   0   0\n",
      "   0   0   0   0   0   0   0   0   0   0   0   0   0   0   0   0   0   0\n",
      "   0   0   0   0   0   0   0   0   0   0   0   0   0   0   0   0   0   0\n",
      "   0   0   0   0   0   0   0   0   0   0   0   0   0   0   0   0   0   0\n",
      "   0   0   0   0   0   0   0   0   0   0   0   0   0   0   0   0   0   0\n",
      "   0   0   0   0   0   0   0   0   0   0   0   0   0   0   0   0   0   0\n",
      "   0   0   0   0   0   0   0   0   0   0   0   0   0   0   0   0   0   0\n",
      "   0   0   0   0   0   0   0   0   0   0   0   0   0   0   0   0   0   0\n",
      "   0   0   0   0   0   0   0   0   0   0   0   0   0   0   0   0   0   0\n",
      "   0   0   0   0   0   0   0   0   0   0   0   0   0   0   0   0   0   0\n",
      "   0   0   0   0   0   0   0   0   0   0   0   0   0   0   0   0   0   0\n",
      "   0   0   0   0   0   0   0   0   0   0   0   0   0   0   0   0   0   0\n",
      "   0   0   0   0   0   0   0   0   0   0   0   0   0   0   0   0   0   0\n",
      "   0   0   0   0   0   0   0   0   0   0   0   0   0   0   0   0   0   0\n",
      "   0   0   0   0   0   0   0   0   0   0   0   0   0   0   0   0   0   0\n",
      "   0   0   0   0   0   0   0   0   0   0   0   0   0   0   0   0   0   0\n",
      "   0   0   0   0   0   0   0   0   0   0   0   0   0   0   0   0   0   0\n",
      "   0   0   0   0   0   0   0   0   0   0   0   0   0   0   0   0   0   0\n",
      "   0   0   0   0   0   0   0   0   0   0   0   0   0   0   0   0   0   0\n",
      "   0   0   0   0   0   0   0   0   0   0   0   0   0   0   0   0   0   0\n",
      "   0   0   0   0   0   0   0   0   0   0   0   0   0   0]\n"
     ]
    }
   ],
   "source": [
    "print(x_train[0])"
   ]
  },
  {
   "cell_type": "code",
   "execution_count": 30,
   "id": "ea0c7548-08ca-47f4-88f2-869ec136e3ed",
   "metadata": {},
   "outputs": [
    {
     "name": "stdout",
     "output_type": "stream",
     "text": [
      "500\n",
      "1\n",
      "7447\n"
     ]
    }
   ],
   "source": [
    "input_dim = x_train.shape[1]\n",
    "output_dim =1\n",
    "vocab = len(token.word_index)\n",
    "print(input_dim)\n",
    "print(output_dim)\n",
    "print(vocab)"
   ]
  },
  {
   "cell_type": "code",
   "execution_count": 31,
   "id": "d7d613ff-bd7d-448f-bcd7-538a31b183db",
   "metadata": {},
   "outputs": [],
   "source": [
    "model = Sequential()\n",
    "model.add(Embedding(input_dim=vocab, output_dim=50, input_length=500))\n",
    "model.add(Flatten())\n",
    "model.add(Dense(units=10, activation='relu'))\n",
    "model.add(Dropout(0.1))\n",
    "model.add(Dense(units=output_dim, activation='sigmoid'))"
   ]
  },
  {
   "cell_type": "code",
   "execution_count": 32,
   "id": "7735858f-14fb-41b8-b9f7-7d8dd1740f9a",
   "metadata": {},
   "outputs": [
    {
     "name": "stdout",
     "output_type": "stream",
     "text": [
      "Model: \"sequential_1\"\n",
      "_________________________________________________________________\n",
      " Layer (type)                Output Shape              Param #   \n",
      "=================================================================\n",
      " embedding (Embedding)       (None, 500, 50)           372350    \n",
      "                                                                 \n",
      " flatten (Flatten)           (None, 25000)             0         \n",
      "                                                                 \n",
      " dense_3 (Dense)             (None, 10)                250010    \n",
      "                                                                 \n",
      " dropout_2 (Dropout)         (None, 10)                0         \n",
      "                                                                 \n",
      " dense_4 (Dense)             (None, 1)                 11        \n",
      "                                                                 \n",
      "=================================================================\n",
      "Total params: 622371 (2.37 MB)\n",
      "Trainable params: 622371 (2.37 MB)\n",
      "Non-trainable params: 0 (0.00 Byte)\n",
      "_________________________________________________________________\n"
     ]
    }
   ],
   "source": [
    "model.compile(loss='mean_squared_error', optimizer='adam', metrics=['accuracy'])\n",
    "model.summary()"
   ]
  },
  {
   "cell_type": "code",
   "execution_count": 33,
   "id": "f32e04f9-fc4e-4271-917c-95320255bf61",
   "metadata": {},
   "outputs": [
    {
     "name": "stdout",
     "output_type": "stream",
     "text": [
      "Epoch 1/20\n",
      "390/390 [==============================] - 4s 10ms/step - loss: 0.0780 - accuracy: 0.9079 - val_loss: 0.0408 - val_accuracy: 0.9773\n",
      "Epoch 2/20\n",
      "390/390 [==============================] - 3s 8ms/step - loss: 0.0369 - accuracy: 0.9823 - val_loss: 0.0319 - val_accuracy: 0.9856\n",
      "Epoch 3/20\n",
      "390/390 [==============================] - 3s 8ms/step - loss: 0.0278 - accuracy: 0.9874 - val_loss: 0.0255 - val_accuracy: 0.9862\n",
      "Epoch 4/20\n",
      "390/390 [==============================] - 4s 11ms/step - loss: 0.0218 - accuracy: 0.9905 - val_loss: 0.0213 - val_accuracy: 0.9886\n",
      "Epoch 5/20\n",
      "390/390 [==============================] - 4s 10ms/step - loss: 0.0172 - accuracy: 0.9933 - val_loss: 0.0189 - val_accuracy: 0.9874\n",
      "Epoch 6/20\n",
      "390/390 [==============================] - 4s 11ms/step - loss: 0.0141 - accuracy: 0.9931 - val_loss: 0.0180 - val_accuracy: 0.9862\n",
      "Epoch 7/20\n",
      "390/390 [==============================] - 5s 12ms/step - loss: 0.0119 - accuracy: 0.9938 - val_loss: 0.0160 - val_accuracy: 0.9868\n",
      "Epoch 8/20\n",
      "390/390 [==============================] - 4s 11ms/step - loss: 0.0108 - accuracy: 0.9933 - val_loss: 0.0163 - val_accuracy: 0.9844\n",
      "Epoch 9/20\n",
      "390/390 [==============================] - 4s 11ms/step - loss: 0.0091 - accuracy: 0.9941 - val_loss: 0.0133 - val_accuracy: 0.9898\n",
      "Epoch 10/20\n",
      "390/390 [==============================] - 4s 10ms/step - loss: 0.0073 - accuracy: 0.9956 - val_loss: 0.0138 - val_accuracy: 0.9874\n",
      "Epoch 11/20\n",
      "390/390 [==============================] - 4s 10ms/step - loss: 0.0073 - accuracy: 0.9946 - val_loss: 0.0133 - val_accuracy: 0.9880\n",
      "Epoch 12/20\n",
      "390/390 [==============================] - 4s 11ms/step - loss: 0.0067 - accuracy: 0.9951 - val_loss: 0.0121 - val_accuracy: 0.9880\n",
      "Epoch 13/20\n",
      "390/390 [==============================] - 3s 9ms/step - loss: 0.0059 - accuracy: 0.9956 - val_loss: 0.0117 - val_accuracy: 0.9886\n",
      "Epoch 14/20\n",
      "390/390 [==============================] - 4s 11ms/step - loss: 0.0063 - accuracy: 0.9949 - val_loss: 0.0125 - val_accuracy: 0.9874\n",
      "Epoch 15/20\n",
      "390/390 [==============================] - 4s 10ms/step - loss: 0.0056 - accuracy: 0.9951 - val_loss: 0.0109 - val_accuracy: 0.9886\n",
      "Epoch 16/20\n",
      "390/390 [==============================] - 3s 8ms/step - loss: 0.0062 - accuracy: 0.9938 - val_loss: 0.0114 - val_accuracy: 0.9886\n",
      "Epoch 17/20\n",
      "390/390 [==============================] - 4s 9ms/step - loss: 0.0055 - accuracy: 0.9951 - val_loss: 0.0116 - val_accuracy: 0.9886\n",
      "Epoch 18/20\n",
      "390/390 [==============================] - 4s 11ms/step - loss: 0.0045 - accuracy: 0.9962 - val_loss: 0.0128 - val_accuracy: 0.9862\n",
      "Epoch 19/20\n",
      "390/390 [==============================] - 4s 11ms/step - loss: 0.0048 - accuracy: 0.9956 - val_loss: 0.0141 - val_accuracy: 0.9850\n",
      "Epoch 20/20\n",
      "390/390 [==============================] - 4s 10ms/step - loss: 0.0048 - accuracy: 0.9956 - val_loss: 0.0130 - val_accuracy: 0.9862\n"
     ]
    },
    {
     "data": {
      "text/plain": [
       "<keras.src.callbacks.History at 0x7f444423fd10>"
      ]
     },
     "execution_count": 33,
     "metadata": {},
     "output_type": "execute_result"
    }
   ],
   "source": [
    "model.fit(x_train, y_train, epochs=20, batch_size=10, verbose=True, validation_data=(x_test, y_test))"
   ]
  },
  {
   "cell_type": "code",
   "execution_count": 34,
   "id": "e24643bc-3c0d-4f1b-8601-8d3886c908e0",
   "metadata": {},
   "outputs": [
    {
     "name": "stdout",
     "output_type": "stream",
     "text": [
      "53/53 [==============================] - 0s 3ms/step - loss: 0.0130 - accuracy: 0.9862\n",
      "loss:  0.013001588173210621\n",
      "Acuracia:  0.9862440228462219\n"
     ]
    }
   ],
   "source": [
    "loss, accuracy = model.evaluate(x_test, y_test)\n",
    "print('loss: ', loss)\n",
    "print('Acuracia: ',accuracy)"
   ]
  },
  {
   "cell_type": "code",
   "execution_count": 35,
   "id": "18be0c0d-d4e4-43a3-b1d2-9b5b58c7a290",
   "metadata": {},
   "outputs": [
    {
     "name": "stdout",
     "output_type": "stream",
     "text": [
      "53/53 [==============================] - 0s 2ms/step\n",
      "[[False]\n",
      " [False]\n",
      " [ True]\n",
      " [False]\n",
      " [False]\n",
      " [False]\n",
      " [False]\n",
      " [False]\n",
      " [False]\n",
      " [False]\n",
      " [False]\n",
      " [False]\n",
      " [False]\n",
      " [False]\n",
      " [False]\n",
      " [False]\n",
      " [False]\n",
      " [False]\n",
      " [False]\n",
      " [ True]]\n"
     ]
    }
   ],
   "source": [
    "nova_previsao  = model.predict(x_test)\n",
    "prev = (nova_previsao > 0.5)\n",
    "print(prev[:20])"
   ]
  },
  {
   "cell_type": "code",
   "execution_count": 36,
   "id": "1ad9ce42-5f52-44f7-873d-11ec73c2fd17",
   "metadata": {},
   "outputs": [
    {
     "name": "stdout",
     "output_type": "stream",
     "text": [
      "[[1449    1]\n",
      " [  22  200]]\n"
     ]
    }
   ],
   "source": [
    "cm = confusion_matrix(y_test, prev)\n",
    "print(cm)"
   ]
  }
 ],
 "metadata": {
  "kernelspec": {
   "display_name": "Python 3 (ipykernel)",
   "language": "python",
   "name": "python3"
  },
  "language_info": {
   "codemirror_mode": {
    "name": "ipython",
    "version": 3
   },
   "file_extension": ".py",
   "mimetype": "text/x-python",
   "name": "python",
   "nbconvert_exporter": "python",
   "pygments_lexer": "ipython3",
   "version": "3.11.5"
  }
 },
 "nbformat": 4,
 "nbformat_minor": 5
}
